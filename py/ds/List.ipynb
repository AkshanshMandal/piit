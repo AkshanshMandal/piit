{
 "cells": [
  {
   "cell_type": "markdown",
   "id": "d7d4a376-543d-4563-95c7-90e99d9a04df",
   "metadata": {},
   "source": [
    "# LIST"
   ]
  },
  {
   "cell_type": "code",
   "execution_count": 3,
   "id": "7a54518e-accf-433c-accb-fb600ad8a212",
   "metadata": {},
   "outputs": [],
   "source": [
    "x = [1, 2, 3, \"Suroor\", 'Bijata', True, False, 100.56 ]"
   ]
  },
  {
   "cell_type": "code",
   "execution_count": 4,
   "id": "b2c158df-d32c-4313-a314-6c84c5c95015",
   "metadata": {},
   "outputs": [
    {
     "name": "stdout",
     "output_type": "stream",
     "text": [
      "[1, 2, 3, 'Suroor', 'Bijata', True, False, 100.56]\n"
     ]
    }
   ],
   "source": [
    "print(x)"
   ]
  },
  {
   "cell_type": "code",
   "execution_count": null,
   "id": "e212b4e3-e737-4912-bd79-1add0c39cc4a",
   "metadata": {},
   "outputs": [],
   "source": []
  }
 ],
 "metadata": {
  "kernelspec": {
   "display_name": "Python 3 (ipykernel)",
   "language": "python",
   "name": "python3"
  },
  "language_info": {
   "codemirror_mode": {
    "name": "ipython",
    "version": 3
   },
   "file_extension": ".py",
   "mimetype": "text/x-python",
   "name": "python",
   "nbconvert_exporter": "python",
   "pygments_lexer": "ipython3",
   "version": "3.13.5"
  }
 },
 "nbformat": 4,
 "nbformat_minor": 5
}
