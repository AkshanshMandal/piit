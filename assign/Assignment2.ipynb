{
 "cells": [
  {
   "cell_type": "markdown",
   "id": "8b8493d1-68fa-4f45-8d3f-c607cff3fbd5",
   "metadata": {},
   "source": [
    "https://docs.google.com/spreadsheets/d/1Pq_MTdo8CLAXyPT2wSekms7iNZYxtWNN2XBgMZ-Qryk/edit?gid=81577032#gid=81577032"
   ]
  },
  {
   "cell_type": "code",
   "execution_count": null,
   "id": "3e3cefc3-dbdf-4431-954f-4164028c1f0c",
   "metadata": {},
   "outputs": [],
   "source": []
  }
 ],
 "metadata": {
  "kernelspec": {
   "display_name": "Python 3 (ipykernel)",
   "language": "python",
   "name": "python3"
  },
  "language_info": {
   "codemirror_mode": {
    "name": "ipython",
    "version": 3
   },
   "file_extension": ".py",
   "mimetype": "text/x-python",
   "name": "python",
   "nbconvert_exporter": "python",
   "pygments_lexer": "ipython3",
   "version": "3.13.5"
  }
 },
 "nbformat": 4,
 "nbformat_minor": 5
}
